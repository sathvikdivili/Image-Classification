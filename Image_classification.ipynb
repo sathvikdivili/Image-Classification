{
 "cells": [
  {
   "cell_type": "code",
   "execution_count": 25,
   "metadata": {
    "id": "3ke13_PZHWC8"
   },
   "outputs": [],
   "source": [
    "# Creating a dataset of images that can be used in model making.\n",
    "#And for that I am using python library to scrape the images"
   ]
  },
  {
   "cell_type": "markdown",
   "metadata": {
    "id": "HBq35rrG-FE7"
   },
   "source": [
    "**DATA GATHERING**"
   ]
  },
  {
   "cell_type": "code",
   "execution_count": 2,
   "metadata": {
    "colab": {
     "base_uri": "https://localhost:8080/"
    },
    "id": "Yb22rorpuZhv",
    "outputId": "834f7a22-a977-4cea-dda1-aae5d338fbb6"
   },
   "outputs": [
    {
     "name": "stdout",
     "output_type": "stream",
     "text": [
      "Requirement already satisfied: bing-image-downloader in /usr/local/lib/python3.7/dist-packages (1.1.1)\n"
     ]
    }
   ],
   "source": [
    "!pip install bing-image-downloader #installing this bing library to download images "
   ]
  },
  {
   "cell_type": "code",
   "execution_count": 3,
   "metadata": {
    "colab": {
     "base_uri": "https://localhost:8080/"
    },
    "id": "fqMhdsDowotg",
    "outputId": "ddd08269-c394-424b-f624-84887204662c"
   },
   "outputs": [
    {
     "name": "stdout",
     "output_type": "stream",
     "text": [
      "mkdir: cannot create directory ‘images’: File exists\n"
     ]
    }
   ],
   "source": [
    "!mkdir images #making a directory named \"images\" to save all the images that we gonna download\n",
    "#we can see a folder is created with the name \"images\" in the \"Files\" on the left hand side."
   ]
  },
  {
   "cell_type": "code",
   "execution_count": 4,
   "metadata": {
    "colab": {
     "base_uri": "https://localhost:8080/",
     "height": 1000
    },
    "id": "s9s2QWqkxSA4",
    "outputId": "aeb39911-3ec3-47dd-d862-ace212dd7c1d"
   },
   "outputs": [
    {
     "name": "stdout",
     "output_type": "stream",
     "text": [
      "[%] Downloading Images to /content/images/cricket ball\n",
      "\n",
      "\n",
      "[!!]Indexing page: 1\n",
      "\n",
      "[%] Indexed 40 Images on Page 1.\n",
      "\n",
      "===============================================\n",
      "\n",
      "[%] Downloading Image #1 from https://5.imimg.com/data5/SELLER/Default/2020/8/AA/IL/QR/4931499/sf-true-test-red-leather-cricket-ball-500x500.png\n",
      "[%] File Downloaded !\n",
      "\n",
      "[%] Downloading Image #2 from https://n1.sdlcdn.com/imgs/a/x/p/SS-True-Test-Cricket-Ball-SDL133148022-1-b71cd.jpg\n",
      "[%] File Downloaded !\n",
      "\n",
      "[%] Downloading Image #3 from https://5.imimg.com/data5/SELLER/Default/2020/11/CS/KG/HN/60515312/ball-true-test-500x500.jpg\n",
      "[Error]Invalid image, not saving https://5.imimg.com/data5/SELLER/Default/2020/11/CS/KG/HN/60515312/ball-true-test-500x500.jpg\n",
      "\n",
      "[!] Issue getting: https://5.imimg.com/data5/SELLER/Default/2020/11/CS/KG/HN/60515312/ball-true-test-500x500.jpg\n",
      "[!] Error:: Invalid image, not saving https://5.imimg.com/data5/SELLER/Default/2020/11/CS/KG/HN/60515312/ball-true-test-500x500.jpg\n",
      "\n",
      "[%] Downloading Image #3 from https://www.sportcart.in/products/2020/376/truetestleatherball2.jpg\n",
      "[%] File Downloaded !\n",
      "\n",
      "[%] Downloading Image #4 from http://www.khelmart.com/Cricket/zoomer_Image/SS_CB_000071_large.jpg\n",
      "[%] File Downloaded !\n",
      "\n",
      "[%] Downloading Image #5 from https://www.khelmart.com/Cricket/zoomer_Image/SS_CB_000069_large.jpg\n",
      "[%] File Downloaded !\n",
      "\n",
      "[%] Downloading Image #6 from https://n1.sdlcdn.com/imgs/g/0/4/Tournament-Leather-Cricket-Ball-Pack-SDL012361356-1-ccae6.jpeg\n",
      "[%] File Downloaded !\n",
      "\n",
      "[%] Downloading Image #7 from https://images.sg.content-cdn.io/cdn/in-resources/b368029c-a4dd-448a-a888-58348cb1b144/Images/ProductImages/Source/SSBLTrueTest_L1.jpg;width=600;height=600;scale=canvas;anchor=bottomcenter\n",
      "[%] File Downloaded !\n",
      "\n",
      "[%] Downloading Image #8 from https://n3.sdlcdn.com/imgs/h/k/d/Club-Red-Leather-Cricket-Ball-SDL401164071-2-15472.jpeg\n",
      "[%] File Downloaded !\n",
      "\n",
      "[%] Downloading Image #9 from https://i.ebayimg.com/images/g/aVgAAOSwTFBfMy6Q/s-l640.jpg\n",
      "[%] File Downloaded !\n",
      "\n",
      "[%] Downloading Image #10 from https://www.onlineshoppingsports.com/uploadImages/oldimg_2018_09_23_014135.jpg\n",
      "[%] File Downloaded !\n",
      "\n",
      "[%] Downloading Image #11 from https://s3-ap-southeast-1.amazonaws.com/media.evaly.com.bd/watermarked/2019-07-24_053609.023643Cricket_Ball_-_Red.jpg\n",
      "[%] File Downloaded !\n",
      "\n",
      "[%] Downloading Image #12 from https://i.ebayimg.com/images/g/BckAAOSwBPZfpV3n/s-l300.jpg\n",
      "[%] File Downloaded !\n",
      "\n",
      "[%] Downloading Image #13 from https://n1.sdlcdn.com/imgs/i/h/g/CRICKET-LEATHER-BALL-SDL691238179-1-10c2d.jpeg\n",
      "[%] File Downloaded !\n",
      "\n",
      "[%] Downloading Image #14 from https://www.sportsuncle.com/image/cache/catalog/images/ss/true-test-800x800.jpg\n",
      "[%] File Downloaded !\n",
      "\n",
      "[%] Downloading Image #15 from https://n2.sdlcdn.com/imgs/h/s/l/SG-Bouncer-Leather-Cricket-Ball-SDL486984478-1-fae32.jpg\n",
      "[%] File Downloaded !\n",
      "\n",
      "[%] Downloading Image #16 from https://www.bigvalueshop.com/wp-content/uploads/2019/09/SS-Ball-True-Test.jpeg\n",
      "[%] File Downloaded !\n",
      "\n",
      "[%] Downloading Image #17 from https://www.sports91.com/wp-content/uploads/2019/04/5bbaf19632ed6dfeb55e5204.jpg\n",
      "[%] File Downloaded !\n",
      "\n",
      "[%] Downloading Image #18 from https://n2.sdlcdn.com/imgs/h/w/i/SG-CRICKET-BALL-SDL111243472-3-904b6.jpeg\n",
      "[%] File Downloaded !\n",
      "\n",
      "[%] Downloading Image #19 from https://n4.sdlcdn.com/imgs/i/2/6/SG-Bouncer-Leather-Cricket-Ball-SDL472676353-2-4d5d3.jpeg\n",
      "[%] File Downloaded !\n",
      "\n",
      "[%] Downloading Image #20 from https://n3.sdlcdn.com/imgs/i/r/l/SG-Seamer-Leather-Cricket-Ball-SDL569849734-1-dd98d.jpeg\n",
      "[%] File Downloaded !\n",
      "\n",
      "[%] Downloading Image #21 from https://n4.sdlcdn.com/imgs/i/g/l/Cashwin-Cricket-leather-Ball-SDL681618348-2-a0d82.jpeg\n",
      "[%] File Downloaded !\n",
      "\n",
      "[%] Downloading Image #22 from https://n3.sdlcdn.com/imgs/f/u/k/cricket-ball-in-leather-SDL520298521-1-a195f.jpeg\n",
      "[%] File Downloaded !\n",
      "\n",
      "[%] Downloading Image #23 from https://n3.sdlcdn.com/imgs/i/z/e/JTM-cricket-leather-ball-SDL236926717-1-e189c.jpg\n",
      "[%] File Downloaded !\n",
      "\n",
      "[%] Downloading Image #24 from https://n2.sdlcdn.com/imgs/h/m/d/MPRT-2-piece-leather-ball-SDL329758749-3-18d43.jpeg\n",
      "[%] File Downloaded !\n",
      "\n",
      "[%] Downloading Image #25 from https://n4.sdlcdn.com/imgs/g/d/q/Sunley-Pink-Leather-Cricket-Ball-SDL622226397-1-3b19d.jpg\n",
      "[%] File Downloaded !\n",
      "\n",
      "[%] Downloading Image #26 from https://n1.sdlcdn.com/imgs/j/m/a/S4C-EM-Seam-Training-Cricket-SDL306514719-1-fc9a1.jpeg\n",
      "[%] File Downloaded !\n",
      "\n",
      "[%] Downloading Image #27 from https://n4.sdlcdn.com/imgs/h/i/w/S-M-4-PIECE-LEATHER-SDL765152064-2-f3a00.jpeg\n",
      "[%] File Downloaded !\n",
      "\n",
      "[%] Downloading Image #28 from https://i.ebayimg.com/images/g/ePcAAOSwHLFeM8Hq/s-l400.jpg\n",
      "[%] File Downloaded !\n",
      "\n",
      "[%] Downloading Image #29 from https://images-na.ssl-images-amazon.com/images/I/51rfF0edQoL.__AC_SX300_QL70_ML2_.jpg\n",
      "[%] File Downloaded !\n",
      "\n",
      "[%] Downloading Image #30 from https://n2.sdlcdn.com/imgs/a/r/b/Sf-True-Test-Cricket-Ball-SDL750499451-1-346c7.jpg\n",
      "[%] File Downloaded !\n",
      "\n",
      "[%] Downloading Image #31 from http://upload.wikimedia.org/wikipedia/commons/d/de/GandM_cricket_ball.jpg\n",
      "[%] File Downloaded !\n",
      "\n",
      "[%] Downloading Image #32 from https://www.khelmart.com/Cricket/zoomer_Image/SF_CB_000048_R_large.jpg?scale.width=450\n",
      "[%] File Downloaded !\n",
      "\n",
      "[%] Downloading Image #33 from https://img.bleacherreport.net/img/images/photos/002/977/261/hi-res-4af94efa4a54367f6afe7ea189f8ebbd_crop_north.jpg?1405380940&amp;w=3072&amp;h=2048\n",
      "[!] Issue getting: https://img.bleacherreport.net/img/images/photos/002/977/261/hi-res-4af94efa4a54367f6afe7ea189f8ebbd_crop_north.jpg?1405380940&amp;w=3072&amp;h=2048\n",
      "[!] Error:: HTTP Error 502: Bad Gateway\n",
      "[%] Downloading Image #33 from https://www.sportscolour.com/wp-content/uploads/2019/07/TEST-SPECIAL-RED-768x768.jpg\n",
      "[%] File Downloaded !\n",
      "\n",
      "[%] Downloading Image #34 from https://www.sportsuncle.com/image/cache/catalog/images/ss/true-test2-800x800.jpg\n",
      "[%] File Downloaded !\n",
      "\n",
      "[%] Downloading Image #35 from https://i.ebayimg.com/images/g/ShkAAOSwXKRdX~Uq/s-l300.jpg\n",
      "[%] File Downloaded !\n",
      "\n",
      "[%] Downloading Image #36 from https://cdn.shopify.com/s/files/1/0247/9187/5637/products/SF-CRICKET-TRUE-TEST-LEATHER-BALL_830d418d-85a8-4433-bd85-ef55a18aa111_180x.png?v=1559807861\n",
      "[%] File Downloaded !\n",
      "\n",
      "[%] Downloading Image #37 from https://i.ebayimg.com/images/g/tQ4AAOSwXGVe3TB6/s-l640.jpg\n",
      "[%] File Downloaded !\n",
      "\n",
      "[%] Downloading Image #38 from https://www.baseballaero.com/wp-content/uploads/2019/04/A_Cricket_Ball.jpg\n",
      "[!] Issue getting: https://www.baseballaero.com/wp-content/uploads/2019/04/A_Cricket_Ball.jpg\n",
      "[!] Error:: <urlopen error [SSL: CERTIFICATE_VERIFY_FAILED] certificate verify failed: unable to get local issuer certificate (_ssl.c:1091)>\n",
      "\n",
      "\n",
      "[!!]Indexing page: 2\n",
      "\n",
      "[%] Indexed 35 Images on Page 2.\n",
      "\n",
      "===============================================\n",
      "\n",
      "[%] Downloading Image #38 from https://5.imimg.com/data5/SELLER/Default/2020/8/AA/IL/QR/4931499/sf-true-test-red-leather-cricket-ball-500x500.png\n",
      "[%] File Downloaded !\n",
      "\n",
      "[%] Downloading Image #39 from https://n1.sdlcdn.com/imgs/a/x/p/SS-True-Test-Cricket-Ball-SDL133148022-1-b71cd.jpg\n",
      "[%] File Downloaded !\n",
      "\n",
      "[%] Downloading Image #40 from https://5.imimg.com/data5/SELLER/Default/2020/11/CS/KG/HN/60515312/ball-true-test-500x500.jpg\n",
      "[Error]Invalid image, not saving https://5.imimg.com/data5/SELLER/Default/2020/11/CS/KG/HN/60515312/ball-true-test-500x500.jpg\n",
      "\n",
      "[!] Issue getting: https://5.imimg.com/data5/SELLER/Default/2020/11/CS/KG/HN/60515312/ball-true-test-500x500.jpg\n",
      "[!] Error:: Invalid image, not saving https://5.imimg.com/data5/SELLER/Default/2020/11/CS/KG/HN/60515312/ball-true-test-500x500.jpg\n",
      "\n",
      "[%] Downloading Image #40 from https://www.sportcart.in/products/2020/376/truetestleatherball2.jpg\n",
      "[%] File Downloaded !\n",
      "\n",
      "\n",
      "\n",
      "[%] Done. Downloaded 40 images.\n",
      "===============================================\n",
      "\n",
      "Please show your support here\n",
      "https://www.buymeacoffee.com/gurugaurav\n",
      "\n",
      "===============================================\n",
      "\n"
     ]
    },
    {
     "data": {
      "application/vnd.google.colaboratory.intrinsic+json": {
       "type": "string"
      },
      "text/plain": [
       "'We have also specified the directory in which these images need to be stored using \"output_dir\" parameter and given the value as \\'images\\' so that images are saved in\\n that directory which we have created earlier'"
      ]
     },
     "execution_count": 4,
     "metadata": {},
     "output_type": "execute_result"
    }
   ],
   "source": [
    "from bing_image_downloader import downloader as ddr \n",
    "# bing_image_downloader is a python package to download images from bing. So we are using downloader library to download images from bing.\n",
    "ddr.download(\"cricket ball\", limit=40,output_dir='images') \n",
    "'''I am downloading 40 images of cricket ball using this function. And we are specifying the no. of images to be downloaded using \"limit\" parameter.\n",
    "By default limit is 100 and I don't want those many images. So restricting it to 40.'''\n",
    "'''We have also specified the directory in which these images need to be stored using \"output_dir\" parameter and given the value as 'images' so that images are saved in\n",
    " that directory which we have created earlier'''"
   ]
  },
  {
   "cell_type": "code",
   "execution_count": 5,
   "metadata": {
    "id": "q8a4hxFn4YeB"
   },
   "outputs": [],
   "source": [
    "# you can now check the output in the images directory. A sub folder is created in images directory under the name \"cricket ball\" and all the 40 images are saved in it"
   ]
  },
  {
   "cell_type": "code",
   "execution_count": 6,
   "metadata": {
    "colab": {
     "base_uri": "https://localhost:8080/"
    },
    "id": "TKBQui0X4-Mg",
    "outputId": "4725ae87-65ee-4616-907d-bee101005554"
   },
   "outputs": [
    {
     "name": "stdout",
     "output_type": "stream",
     "text": [
      "[%] Downloading Images to /content/images/sunflower\n",
      "\n",
      "\n",
      "[!!]Indexing page: 1\n",
      "\n",
      "[%] Indexed 40 Images on Page 1.\n",
      "\n",
      "===============================================\n",
      "\n",
      "[%] Downloading Image #1 from https://i.pinimg.com/originals/61/47/55/6147551345b8b4a353e61d018000d6ff.jpg\n",
      "[%] File Downloaded !\n",
      "\n",
      "[%] Downloading Image #2 from https://pics.me.me/shes-a-sunflower-strong-and-bold-and-true-to-herself-43765264.png\n",
      "[%] File Downloaded !\n",
      "\n",
      "[%] Downloading Image #3 from https://thegardeningcook.com/wp-content/uploads/2019/07/sunflower-true-friends-quote.jpg\n",
      "[%] File Downloaded !\n",
      "\n",
      "[%] Downloading Image #4 from https://i.pinimg.com/originals/b9/48/3e/b9483ef3471b287ccbdac25fc8adf256.jpg\n",
      "[%] File Downloaded !\n",
      "\n",
      "[%] Downloading Image #5 from https://i.pinimg.com/474x/23/1f/c2/231fc2acae8dce76252eff28db0435b8.jpg\n",
      "[%] File Downloaded !\n",
      "\n",
      "[%] Downloading Image #6 from https://www.croatia-times.com/wp-content/uploads/2017/07/Sunflowers-of-Slavonia-Emica-Elvedji-HANZA-MEDIA-10.jpg\n",
      "[%] File Downloaded !\n",
      "\n",
      "[%] Downloading Image #7 from https://i.pinimg.com/originals/5b/5e/f6/5b5ef6e1fc8194ccc2315a1aed8dd6fc.jpg\n",
      "[%] File Downloaded !\n",
      "\n",
      "[%] Downloading Image #8 from http://cdn.shopify.com/s/files/1/0232/3936/0576/products/Sunflowerstripe12x12_1200x1200.jpg?v=1591802191\n",
      "[%] File Downloaded !\n",
      "\n",
      "[%] Downloading Image #9 from https://i.pinimg.com/originals/17/fa/bb/17fabbccc500f0c871850b117ac704c2.jpg\n",
      "[%] File Downloaded !\n",
      "\n",
      "[%] Downloading Image #10 from https://cdn.idealo.com/folder/Product/4714/6/4714678/s4_produktbild_max_2/vans-authentic-sunflower-true-white.jpg\n",
      "[%] File Downloaded !\n",
      "\n",
      "[%] Downloading Image #11 from https://i.pinimg.com/474x/fc/89/c9/fc89c96d39bbfcf282221692ffeceb81.jpg\n",
      "[%] File Downloaded !\n",
      "\n",
      "[%] Downloading Image #12 from https://www.myweekly.co.uk/wp-content/uploads/sites/9/2019/04/iStock-912760592-sunflower-x.jpg\n",
      "[%] File Downloaded !\n",
      "\n",
      "[%] Downloading Image #13 from https://i.pinimg.com/originals/70/02/0a/70020ab510822a6a87a2f0d862de6b67.jpg\n",
      "[%] File Downloaded !\n",
      "\n",
      "[%] Downloading Image #14 from https://i.pinimg.com/originals/df/61/3d/df613dbdfa2b0c4aaa1ea2bea2ab56d8.jpg\n",
      "[%] File Downloaded !\n",
      "\n",
      "[%] Downloading Image #15 from https://static.supersklep.sk/960374-topanky-vans-style-29-design-assembly-sunflower-true-white-960w.jpg\n",
      "[%] File Downloaded !\n",
      "\n",
      "[%] Downloading Image #16 from https://i.pinimg.com/originals/24/53/4e/24534ecf2802c080017f7ebcefb4e066.jpg\n",
      "[%] File Downloaded !\n",
      "\n",
      "[%] Downloading Image #17 from https://i.pinimg.com/originals/16/58/ec/1658eca41d3b11f51a8d1cd58b86cc0e.jpg\n",
      "[%] File Downloaded !\n",
      "\n",
      "[%] Downloading Image #18 from https://resources.mandmdirect.com/Images/_default/v/n/9/vn959_3_cloudzoom.jpg\n",
      "[!] Issue getting: https://resources.mandmdirect.com/Images/_default/v/n/9/vn959_3_cloudzoom.jpg\n",
      "[!] Error:: The read operation timed out\n",
      "[%] Downloading Image #18 from https://rmcorp.s3.scarfbot.com/common/photos/products/2015/02/19/352f12e3127e23a465d3a0d4d0140a1c.jpg\n",
      "[%] File Downloaded !\n",
      "\n",
      "[%] Downloading Image #19 from https://n4.sdlcdn.com/imgs/h/k/v/True-Elements-Sunflower-Seeds-1-SDL035531106-1-cb347.jpg\n",
      "[%] File Downloaded !\n",
      "\n",
      "[%] Downloading Image #20 from https://i.pinimg.com/originals/93/25/5f/93255f01ad91ded0e37c6349e406bd27.jpg\n",
      "[%] File Downloaded !\n",
      "\n",
      "[%] Downloading Image #21 from https://1.bp.blogspot.com/-zOYRjA1wH-E/Xlfe9SapjlI/AAAAAAAALmg/zudgoYSTi-g5zv29TsuEJgKXiKlwF3ycACLcBGAsYHQ/s1600/frame.jpg\n",
      "[%] File Downloaded !\n",
      "\n",
      "[%] Downloading Image #22 from https://beatnik.space/image/cache/catalog/kedu vans/Old-Skool-2/CORDUROY/Vans CORDUROY STYLE 29 - SUNFLOWER TRUE WHITE/3-1280x960.jpg\n",
      "[!] Issue getting: https://beatnik.space/image/cache/catalog/kedu vans/Old-Skool-2/CORDUROY/Vans CORDUROY STYLE 29 - SUNFLOWER TRUE WHITE/3-1280x960.jpg\n",
      "[!] Error:: URL can't contain control characters. '/image/cache/catalog/kedu vans/Old-Skool-2/CORDUROY/Vans CORDUROY STYLE 29 - SUNFLOWER TRUE WHITE/3-1280x960.jpg' (found at least ' ')\n",
      "[%] Downloading Image #22 from https://i.pinimg.com/originals/28/ac/3d/28ac3d44523e459312450460985cc6c3.jpg\n",
      "[%] File Downloaded !\n",
      "\n",
      "[%] Downloading Image #23 from https://cdn.shopify.com/s/files/1/0520/5272/1845/products/Raw_Sunflower_1_1024x1024@2x.jpg?v=1610624880\n",
      "[%] File Downloaded !\n",
      "\n",
      "[%] Downloading Image #24 from https://beatnik.space/image/cache/catalog/slipon_vans/Corduroy Slip-On/Vans CORDUROY SLIP-ON - SUNFLOWER TRUE WHITE/1-1280x960.jpg\n",
      "[!] Issue getting: https://beatnik.space/image/cache/catalog/slipon_vans/Corduroy Slip-On/Vans CORDUROY SLIP-ON - SUNFLOWER TRUE WHITE/1-1280x960.jpg\n",
      "[!] Error:: URL can't contain control characters. '/image/cache/catalog/slipon_vans/Corduroy Slip-On/Vans CORDUROY SLIP-ON - SUNFLOWER TRUE WHITE/1-1280x960.jpg' (found at least ' ')\n",
      "[%] Downloading Image #24 from https://i5.walmartimages.com/asr/1e7294dc-94f6-40a3-be2f-484808ea1d78_1.2ab42bfb8de4fc283644852c9d182360.jpeg\n",
      "[%] File Downloaded !\n",
      "\n",
      "[%] Downloading Image #25 from https://static.supersklep.pl/960376-buty-vans-style-29-design-assembly-sunflower-true-white-960w.jpg\n",
      "[%] File Downloaded !\n",
      "\n",
      "[%] Downloading Image #26 from https://1.bp.blogspot.com/-zOYRjA1wH-E/Xlfe9SapjlI/AAAAAAAALmg/zudgoYSTi-g5zv29TsuEJgKXiKlwF3ycACLcBGAsYHQ/w1200-h630-p-k-no-nu/frame.jpg\n",
      "[%] File Downloaded !\n",
      "\n",
      "[%] Downloading Image #27 from https://beatnik.space/image/cache/catalog/kedu vans/Old-Skool-2/CORDUROY/Vans CORDUROY STYLE 29 - SUNFLOWER TRUE WHITE/2-1280x960.jpg\n",
      "[!] Issue getting: https://beatnik.space/image/cache/catalog/kedu vans/Old-Skool-2/CORDUROY/Vans CORDUROY STYLE 29 - SUNFLOWER TRUE WHITE/2-1280x960.jpg\n",
      "[!] Error:: URL can't contain control characters. '/image/cache/catalog/kedu vans/Old-Skool-2/CORDUROY/Vans CORDUROY STYLE 29 - SUNFLOWER TRUE WHITE/2-1280x960.jpg' (found at least ' ')\n",
      "[%] Downloading Image #27 from https://rmcorp.s3.scarfbot.com/common/photos/products/2015/02/19/8cba63fc4966b825b51fb4aa055a1049.jpg\n",
      "[%] File Downloaded !\n",
      "\n",
      "[%] Downloading Image #28 from https://beatnik.space/image/cache/catalog/slipon_vans/Corduroy Slip-On/Vans CORDUROY SLIP-ON - SUNFLOWER TRUE WHITE/2-1280x960.jpg\n",
      "[!] Issue getting: https://beatnik.space/image/cache/catalog/slipon_vans/Corduroy Slip-On/Vans CORDUROY SLIP-ON - SUNFLOWER TRUE WHITE/2-1280x960.jpg\n",
      "[!] Error:: URL can't contain control characters. '/image/cache/catalog/slipon_vans/Corduroy Slip-On/Vans CORDUROY SLIP-ON - SUNFLOWER TRUE WHITE/2-1280x960.jpg' (found at least ' ')\n",
      "[%] Downloading Image #28 from https://cdn-img-1.wanelo.com/p/5ef/bb2/f0f/142bc83f738b9782ff7a311/full_size.jpg\n",
      "[%] File Downloaded !\n",
      "\n",
      "[%] Downloading Image #29 from https://ae01.alicdn.com/kf/HTB1ZHDmSpXXXXc3XVXXq6xXFXXX3/free-shipping-yqtdmy-12-pcs-Retro-Heart-style-boutique-True-dried-flowers-sunflower-keychain.jpg\n",
      "[%] File Downloaded !\n",
      "\n",
      "[%] Downloading Image #30 from https://i.pinimg.com/originals/36/d7/38/36d7388297f43ac8770ada316fe1f554.jpg\n",
      "[%] File Downloaded !\n",
      "\n",
      "[%] Downloading Image #31 from https://static.supersklep.pl/960375-buty-vans-style-29-design-assembly-sunflower-true-white-w1920w.jpg\n",
      "[%] File Downloaded !\n",
      "\n",
      "[%] Downloading Image #32 from https://shop-cdn1.vigbo.tech/shops/4191/products/287619/images/2-f94b2dee521f8f4f8c0f34fcb0b90d31.jpg\n",
      "[%] File Downloaded !\n",
      "\n",
      "[%] Downloading Image #33 from https://i.pinimg.com/originals/87/9c/d3/879cd359493cf734aded2917e12e9e20.jpg\n",
      "[%] File Downloaded !\n",
      "\n",
      "[%] Downloading Image #34 from https://static.wixstatic.com/media/bc7454_3651dec622974465b99916efd3952b3b~mv2.png/v1/fit/w_500,h_500,q_90/file.png\n",
      "[%] File Downloaded !\n",
      "\n",
      "[%] Downloading Image #35 from https://i.pinimg.com/originals/12/ee/f3/12eef395eaa7fc7eacda427f8557cda1.jpg\n",
      "[%] File Downloaded !\n",
      "\n",
      "\n",
      "\n",
      "[!!]Indexing page: 2\n",
      "\n",
      "[%] Indexed 35 Images on Page 2.\n",
      "\n",
      "===============================================\n",
      "\n",
      "[%] Downloading Image #36 from https://i.pinimg.com/originals/61/47/55/6147551345b8b4a353e61d018000d6ff.jpg\n",
      "[%] File Downloaded !\n",
      "\n",
      "[%] Downloading Image #37 from https://pics.me.me/shes-a-sunflower-strong-and-bold-and-true-to-herself-43765264.png\n",
      "[%] File Downloaded !\n",
      "\n",
      "[%] Downloading Image #38 from https://thegardeningcook.com/wp-content/uploads/2019/07/sunflower-true-friends-quote.jpg\n",
      "[%] File Downloaded !\n",
      "\n",
      "[%] Downloading Image #39 from https://i.pinimg.com/originals/b9/48/3e/b9483ef3471b287ccbdac25fc8adf256.jpg\n",
      "[%] File Downloaded !\n",
      "\n",
      "[%] Downloading Image #40 from https://i.pinimg.com/474x/23/1f/c2/231fc2acae8dce76252eff28db0435b8.jpg\n",
      "[%] File Downloaded !\n",
      "\n",
      "\n",
      "\n",
      "[%] Done. Downloaded 40 images.\n",
      "===============================================\n",
      "\n",
      "Please show your support here\n",
      "https://www.buymeacoffee.com/gurugaurav\n",
      "\n",
      "===============================================\n",
      "\n"
     ]
    }
   ],
   "source": [
    "ddr.download(\"sunflower\", limit=40,output_dir='images') \n",
    "# Now I am downloading another set of images of sunflower as I need atleast 2 classes of data to perform image classification\n",
    "# The parameters are same as I expalined earlier and just the name of 'output_dir' changes as we need to save these images seperatly and we named it 'sunflower'"
   ]
  },
  {
   "cell_type": "code",
   "execution_count": 7,
   "metadata": {
    "id": "JKhT6twm68yQ"
   },
   "outputs": [],
   "source": [
    "# you can now check the output in the images directory. A sub folder is created in images directory under the name \"sunflower\" and all the 40 images are saved in it"
   ]
  },
  {
   "cell_type": "markdown",
   "metadata": {
    "id": "h9jNPWUy-wBx"
   },
   "source": [
    "**DATA PRE PROCESSING**"
   ]
  },
  {
   "cell_type": "markdown",
   "metadata": {
    "id": "ajNm4OCB-5HS"
   },
   "source": [
    "So, now as we have the images as our dataset, we need to process them in such a way that they are suitable to be fed into an ML model"
   ]
  },
  {
   "cell_type": "code",
   "execution_count": 8,
   "metadata": {
    "id": "gXtjZVnk_HrO"
   },
   "outputs": [],
   "source": [
    "#Importing all the required libraries\n",
    "import os # I will use this operating system library to access the folders,\n",
    "import numpy as np #I will use this library to perform some mathematical and numerical operations. \n",
    "from skimage.io import imread # I will use this scikit image, an image processing package to read an image using 'imread' library\n",
    "from skimage.transform import resize # I will use this scikit image transform package to transform the image as required. "
   ]
  },
  {
   "cell_type": "code",
   "execution_count": 10,
   "metadata": {
    "id": "cc7E8HuIBSoq"
   },
   "outputs": [],
   "source": [
    "#Creating empty lists to store the values of the data\n",
    "target = [] #list to store the prediction \n",
    "images = [] #list to store the images\n",
    "flattened_data=[] #list to stored the flattened images data, in such a way that it is suitable to the ML model. \n",
    "\n",
    "DATADIR = \"/content/images\" #creating a variable \"DATADIR\" to store the directory path which can used to access the data\n",
    "CATEGORIES = ['cricket ball','sunflower'] #and these categories will be our targets while performing classification.\n",
    "for i in CATEGORIES:\n",
    "  class_num = CATEGORIES.index(i) #Label encoding the categories as it is in text format and we need to quantify them. \n",
    "  path = os.path.join(DATADIR,i) #used os library to join the paths of the CATEGORIES with the DATADIR to use all the images\n",
    "  for img in os.listdir(path): #for loop to read all the images in each category with the help of 'path' created above.\n",
    "    img_array = imread(os.path.join(path,img)) #reading one image after another in each category and storing it in the img_array\n",
    "#each image data is stored in 3 dimensional array in the img_array and we need to flatten all of them.  \n",
    "    img_resized = resize(img_array,(100,100,3)) #resizing all the images into a uniform scale of pixels(0 to 1) and storing it in the 'img_resized' array\n",
    "    flattened_data.append(img_resized.flatten()) #flattening the resized images and apending them in the 'flattened_data' list that we created above\n",
    "    images.append(img_resized) #storing the resized images in 'images' list that we created above\n",
    "    target.append(class_num) \n",
    "flattened_data = np.array(flattened_data) #converting arrays into numpy arrays just in case if they are not converted into numpy arrays already\n",
    "images = np.array(images)\n",
    "target = np.array(target) #having in numpy is easy to work with and iterate through\n"
   ]
  },
  {
   "cell_type": "markdown",
   "metadata": {
    "id": "H8ZgRy_6St2v"
   },
   "source": [
    "Lets see what is stored in each of these variables"
   ]
  },
  {
   "cell_type": "code",
   "execution_count": 11,
   "metadata": {
    "colab": {
     "base_uri": "https://localhost:8080/"
    },
    "id": "vd96ElSWSykS",
    "outputId": "5b5112a6-644b-4f5b-88b6-7ae3fca9b1ee"
   },
   "outputs": [
    {
     "data": {
      "text/plain": [
       "array([[1.        , 1.        , 1.        , ..., 1.        , 1.        ,\n",
       "        1.        ],\n",
       "       [1.        , 1.        , 1.        , ..., 1.        , 1.        ,\n",
       "        1.        ],\n",
       "       [1.        , 1.        , 1.        , ..., 1.        , 1.        ,\n",
       "        1.        ],\n",
       "       ...,\n",
       "       [0.99607843, 0.99607843, 0.99607843, ..., 0.99607843, 0.99607843,\n",
       "        0.99607843],\n",
       "       [0.84705882, 0.8745098 , 0.93333333, ..., 0.56078431, 0.48782353,\n",
       "        0.12311765],\n",
       "       [0.96470588, 0.96470588, 0.96470588, ..., 0.96470588, 0.96470588,\n",
       "        0.95686275]])"
      ]
     },
     "execution_count": 11,
     "metadata": {},
     "output_type": "execute_result"
    }
   ],
   "source": [
    "flattened_data #it is all pixel values of every image and it is flattened in 1 Dimension"
   ]
  },
  {
   "cell_type": "code",
   "execution_count": 12,
   "metadata": {
    "colab": {
     "base_uri": "https://localhost:8080/"
    },
    "id": "bHvcsOaES0uH",
    "outputId": "c7ecd2e1-6a10-4465-a876-f16f64c2c025"
   },
   "outputs": [
    {
     "data": {
      "text/plain": [
       "array([0, 0, 0, 0, 0, 0, 0, 0, 0, 0, 0, 0, 0, 0, 0, 0, 0, 0, 0, 0, 0, 0,\n",
       "       0, 0, 0, 0, 0, 0, 0, 0, 0, 0, 0, 0, 0, 0, 0, 0, 0, 0, 1, 1, 1, 1,\n",
       "       1, 1, 1, 1, 1, 1, 1, 1, 1, 1, 1, 1, 1, 1, 1, 1, 1, 1, 1, 1, 1, 1,\n",
       "       1, 1, 1, 1, 1, 1, 1, 1, 1, 1, 1, 1, 1, 1])"
      ]
     },
     "execution_count": 12,
     "metadata": {},
     "output_type": "execute_result"
    }
   ],
   "source": [
    "target"
   ]
  },
  {
   "cell_type": "markdown",
   "metadata": {
    "id": "PTcWU8-KTsKj"
   },
   "source": [
    "Now as the data is ready in required format. let us split the data into train data and test data "
   ]
  },
  {
   "cell_type": "code",
   "execution_count": 13,
   "metadata": {
    "colab": {
     "base_uri": "https://localhost:8080/",
     "height": 52
    },
    "id": "w8ZfO_q5T2SA",
    "outputId": "22ed329c-d412-411e-e3e5-03685c3049d7"
   },
   "outputs": [
    {
     "data": {
      "application/vnd.google.colaboratory.intrinsic+json": {
       "type": "string"
      },
      "text/plain": [
       "'feeding \\'flattened_data\\' as x, \\'target\\' as  y into the \"train_test_split\" function to split train and test data where 30% of data goes \\ninto test data set and 70% into train data set'"
      ]
     },
     "execution_count": 13,
     "metadata": {},
     "output_type": "execute_result"
    }
   ],
   "source": [
    "from sklearn.model_selection import train_test_split #importing \"train_test_split\" library from \"sklearn.model_selection\" package\n",
    "x_train,x_test,y_train,y_test = train_test_split(flattened_data,target,test_size=0.3,random_state=0) \n",
    "'''feeding 'flattened_data' as x, 'target' as  y into the \"train_test_split\" function to split train and test data where 30% of data goes \n",
    "into test data set and 70% into train data set'''\n",
    "#small part of data is enough for test data set.\n",
    "#we can give any random value into random_state parameter"
   ]
  },
  {
   "cell_type": "markdown",
   "metadata": {
    "id": "f0gsnFt0VSsm"
   },
   "source": [
    "**MODEL MAKING**"
   ]
  },
  {
   "cell_type": "markdown",
   "metadata": {
    "id": "0bebf5Z2VjIA"
   },
   "source": [
    "SELECTING SVM (SUPPORT VECTOR MACHINE) ALGORITHM FOR THIS CLASSIFICATION PROBLEM"
   ]
  },
  {
   "cell_type": "markdown",
   "metadata": {
    "id": "23oigmt0XczI"
   },
   "source": [
    "BEFORE ACTUALLY USING SVM, WE NEED TO FIND BEST & APPROPRIATE VALUES FOR PARAMETERS IN SVM LIKE 1. REGULARISATION PARAMETER(C) 2. KERNEL 3. GAMMA\n",
    "THAT WILL BE SUITABLE FOR OUR DATA. \n",
    "AND FOR THAT LET'S USE GRID SEARCH CV"
   ]
  },
  {
   "cell_type": "code",
   "execution_count": 14,
   "metadata": {
    "id": "ja2rQKlJXi5u"
   },
   "outputs": [],
   "source": [
    "from sklearn.model_selection import GridSearchCV\n",
    "from sklearn import svm"
   ]
  },
  {
   "cell_type": "code",
   "execution_count": 16,
   "metadata": {
    "colab": {
     "base_uri": "https://localhost:8080/"
    },
    "id": "-f0btmewYAn9",
    "outputId": "0ac658e9-11ec-4ed3-942d-f6c9a68888c4"
   },
   "outputs": [
    {
     "data": {
      "text/plain": [
       "GridSearchCV(cv=None, error_score=nan,\n",
       "             estimator=SVC(C=1.0, break_ties=False, cache_size=200,\n",
       "                           class_weight=None, coef0=0.0,\n",
       "                           decision_function_shape='ovr', degree=3,\n",
       "                           gamma='scale', kernel='rbf', max_iter=-1,\n",
       "                           probability=True, random_state=None, shrinking=True,\n",
       "                           tol=0.001, verbose=False),\n",
       "             iid='deprecated', n_jobs=None,\n",
       "             param_grid=[{'C': [1, 10, 50, 100], 'kernel': ['linear']},\n",
       "                         {'C': [1, 10, 50, 100], 'gamma': [0.001, 0.0001],\n",
       "                          'kernel': ['linear']}],\n",
       "             pre_dispatch='2*n_jobs', refit=True, return_train_score=False,\n",
       "             scoring=None, verbose=0)"
      ]
     },
     "execution_count": 16,
     "metadata": {},
     "output_type": "execute_result"
    }
   ],
   "source": [
    "#trying out different values for parameters of svm so that the GridSearchCV can help us to pick the best ones. \n",
    "param_grid = [\n",
    "         {'C':[1,10,50,100],'kernel':['linear']},\n",
    "         {'C':[1,10,50,100],'gamma':[0.001,0.0001],'kernel':['linear']},\n",
    "]\n",
    "svc = svm.SVC(probability=True) \n",
    "'''setting the probability parameter as true for our svm model so that it will tell us the probability of its classification and\n",
    " from that we can also know the accuracy of the model'''\n",
    "clf = GridSearchCV(svc,param_grid) #loading the model and parameters into the GridSearchCV so that it chooses the best variant of given 2 variants in param_grid \n",
    "clf.fit(x_train,y_train) #fitting the x_train & y_train into the model for training"
   ]
  },
  {
   "cell_type": "code",
   "execution_count": 17,
   "metadata": {
    "colab": {
     "base_uri": "https://localhost:8080/"
    },
    "id": "AxP04mVMZ6NT",
    "outputId": "bba20ef5-df40-4abb-a226-03655d6407cc"
   },
   "outputs": [
    {
     "data": {
      "text/plain": [
       "array([1, 0, 0, 0, 1, 1, 1, 1, 1, 0, 1, 0, 0, 1, 1, 0, 0, 1, 0, 0, 1, 0,\n",
       "       1, 1])"
      ]
     },
     "execution_count": 17,
     "metadata": {},
     "output_type": "execute_result"
    }
   ],
   "source": [
    "y_pred = clf.predict(x_test) #testing the model with x_test\n",
    "y_pred #y_pred is the classification made by model on x_test"
   ]
  },
  {
   "cell_type": "code",
   "execution_count": 18,
   "metadata": {
    "colab": {
     "base_uri": "https://localhost:8080/"
    },
    "id": "wAyMaUidashv",
    "outputId": "f931856f-466b-419c-a25b-1b794a370e1b"
   },
   "outputs": [
    {
     "data": {
      "text/plain": [
       "array([1, 0, 0, 1, 1, 1, 1, 1, 1, 1, 1, 1, 0, 1, 1, 0, 0, 0, 0, 0, 1, 0,\n",
       "       1, 1])"
      ]
     },
     "execution_count": 18,
     "metadata": {},
     "output_type": "execute_result"
    }
   ],
   "source": [
    "y_test #actual values for the x_test to the categories they belong to"
   ]
  },
  {
   "cell_type": "code",
   "execution_count": 19,
   "metadata": {
    "id": "pKc3Rps5bevz"
   },
   "outputs": [],
   "source": [
    "from sklearn.metrics import accuracy_score,confusion_matrix\n",
    "#importing accuracy_score and confusion_matrix to know the accuracy of the model "
   ]
  },
  {
   "cell_type": "code",
   "execution_count": 20,
   "metadata": {
    "colab": {
     "base_uri": "https://localhost:8080/"
    },
    "id": "tXvVWu8Qb0S3",
    "outputId": "92a094a5-34cb-4c95-c2d8-61dfd2066072"
   },
   "outputs": [
    {
     "data": {
      "text/plain": [
       "0.8333333333333334"
      ]
     },
     "execution_count": 20,
     "metadata": {},
     "output_type": "execute_result"
    }
   ],
   "source": [
    "accuracy_score(y_pred,y_test) #we got accuracy score as 83%. that means our model is 83/100 times makes proper classification"
   ]
  },
  {
   "cell_type": "code",
   "execution_count": 24,
   "metadata": {
    "colab": {
     "base_uri": "https://localhost:8080/"
    },
    "id": "0c2W8_t3b6lV",
    "outputId": "bd8254b4-26f1-44a9-c938-48010fb8cb9e"
   },
   "outputs": [
    {
     "data": {
      "text/plain": [
       "array([[ 8,  3],\n",
       "       [ 1, 12]])"
      ]
     },
     "execution_count": 24,
     "metadata": {},
     "output_type": "execute_result"
    }
   ],
   "source": [
    "confusion_matrix(y_pred,y_test) \n",
    "#this means our model predicted 20 items correctly into their respective categories and wrongly classified 4 items"
   ]
  },
  {
   "cell_type": "markdown",
   "metadata": {
    "id": "xFhST2FUc8JQ"
   },
   "source": [
    "THE ACCURACY OF THE MODEL CAN BE FURTHER IMPROVED BY CHOOSING MORE VALUES IN GRID SEARCH CV AND SELECTING BEST OUT OF MANY MORE POSSIBILITIES"
   ]
  },
  {
   "cell_type": "markdown",
   "metadata": {
    "id": "ywRnqUn6dZgV"
   },
   "source": [
    "**THE END**"
   ]
  }
 ],
 "metadata": {
  "colab": {
   "name": "Image classification.ipynb",
   "provenance": []
  },
  "kernelspec": {
   "display_name": "Python 3",
   "language": "python",
   "name": "python3"
  },
  "language_info": {
   "codemirror_mode": {
    "name": "ipython",
    "version": 3
   },
   "file_extension": ".py",
   "mimetype": "text/x-python",
   "name": "python",
   "nbconvert_exporter": "python",
   "pygments_lexer": "ipython3",
   "version": "3.7.6"
  }
 },
 "nbformat": 4,
 "nbformat_minor": 1
}
